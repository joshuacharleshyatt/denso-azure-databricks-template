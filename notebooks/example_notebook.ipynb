{
 "cells": [
  {
   "cell_type": "markdown",
   "id": "7b38ea14",
   "metadata": {},
   "source": [
    "# Databricks notebook source\n",
    "## ETL process for daily telemetry data"
   ]
  },
  {
   "cell_type": "code",
   "execution_count": null,
   "id": "0024e057",
   "metadata": {
    "vscode": {
     "languageId": "plaintext"
    }
   },
   "outputs": [],
   "source": [
    "import pyspark.sql.functions as F\n",
    "from pyspark.sql import SparkSession"
   ]
  },
  {
   "cell_type": "code",
   "execution_count": null,
   "id": "87862a21",
   "metadata": {
    "vscode": {
     "languageId": "plaintext"
    }
   },
   "outputs": [],
   "source": [
    "# COMMAND ----------\n",
    "# Define input parameters\n",
    "dbutils.widgets.text(\"input_path\", \"/mnt/datalake/raw/\")\n",
    "dbutils.widgets.text(\"output_table\", \"analytics.daily_summary\")\n",
    "\n",
    "input_path = dbutils.widgets.get(\"input_path\")\n",
    "output_table = dbutils.widgets.get(\"output_table\")\n",
    "\n",
    "print(f\"Reading data from: {input_path}\")\n",
    "print(f\"Will write to table: {output_table}\")"
   ]
  }
 ],
 "metadata": {
  "language_info": {
   "name": "python"
  }
 },
 "nbformat": 4,
 "nbformat_minor": 5
}
